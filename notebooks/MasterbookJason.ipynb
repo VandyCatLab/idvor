{
 "cells": [
  {
   "cell_type": "code",
   "execution_count": 1,
   "source": [
    "import os\n",
    "import sys\n",
    "sys.path.append('/data/idvor/python_scripts/')\n",
    "import baseline, analysis\n",
    "import tensorflow as tf\n",
    "import numpy as np\n",
    "import matplotlib.pyplot as plt\n",
    "import pandas as pd\n",
    "import random\n",
    "import seaborn as sns\n",
    "import itertools"
   ],
   "outputs": [],
   "metadata": {}
  },
  {
   "cell_type": "markdown",
   "source": [
    "# Complete notebook to present data for IDVOR\n",
    "Compiled and fixed by Jason, base code by Sam\n",
    "\n",
    "The goal of this project is to set the stage for future work using CNNs to model individual differences. A major hurdle in this wider project is how do we measure representational variability in CNNs and how much variability is \"significant\"? \n",
    "\n",
    "Slotting in background stuff here.\n",
    "\n",
    "While representational similarity between models have been measured using representational similarity analysis (RSA), there are other techniques native to computer science that may be fruitful to use instead. We would like a metric that can quantify the similarity across outputs of CNNs regardless of form and the metric should be robust to noise (ie: pick out the signal). To do this, we will use simuluations to test how each metric performs in cases with clear expected results. By the end of this, we should be able to give specific recommendations on which metric to use and when they are best used.\n",
    "\n",
    "We will then leverage the metrics to determine the baseline amounts of variability in representations during normal function. As we plan to use CNNs to model sources of variability, we want to know what is the baseline amount of variability in representations found in these networks during normal functioning. Finally, we will apply this baseline to CNN variability caused by changes in randomization seed. Randomization seeds dictating the initial weights and dataset presentation order is the smallset possible changes to CNNs that may result in variability in representations of images and if it produces variability above baseline, it is likely that more significant than this would be fruitful methods to model individual differences.\n",
    "## Similarity Metrics\n",
    "We use three different simliarity metrics to measure representational simliarity throughout this project: RSA, CCA, and CKA. Each of these methods are dependent on the dataset that is used to generate output from a specific layer.\n",
    "Representational Similarity Analysis (RSA): a RDM of pairwise Pearson's correlation between each image is created then the similarity between two sources is indexed by the Pearson's correaltion between their RDMs.\n",
    "\n",
    "Canonical Correlation Analysis (CCA): Between the representations of a dataset between two sources, a transformation is found such that a correlation is maximized. This is repeated with the constraint that the transformation is orthoganol to the previous. After repetitions equal to the number of features (in the case where the number is not equal, the lower number), the set of correlations is aggregated. I originally used Projection-weighted CCA as it is the latest from the authors but it seems to be bugged. Instead, we use singular vector CCA: essentially, before doing any correlations we select the number of neurons necessary to capture 98% of the variance in the represntation.\n",
    "\n",
    "Centered Kernel Alignment (CKA): Between the representations of a dataset between the two sources, the Hilbert-Schmidt Independence Criterion is calculated. The HSIC applies a kernel on the centered representations and calculates whether the two representations are statistically independent. This is normalized against the HSIC between the representations and themselves. We use a linear kernel here but other kernels are possible like a RBF.\n",
    "\n",
    "## Simulation Tests\n",
    "Through a series of simulation tests, we hope to find which metric performs best in different cases and what researchers should be using to quanitfy CNN representational simialrity.\n",
    "\n",
    "### Correspondence Test\n",
    "The first test we use is a correspondence test (Kornblith et al., 2019). Given two instances of a network, differing only in randomization seeds, you can generate representations from an image set at each layer. Ideally, if pairs of representations between the networks were compared, the most similar pair should be the outputs from the corresponding layers, e.g., the output of final layer of one instance should be the most similar to the output of the final layer in another instance. From this, we can test how well each similarity metric performs in finding the corresponding layers across instances of a network.\n",
    "\n",
    "For this test, we use 100 instances of a relatively simple CNN (All-CNN-C; architecture below) trained on CIFAR10, varying only on randomization seeds. For each possible pair of networks, we tested each metric's ability to find the corresponding layers between the networks based on the outputs of each layer given an image set. We randomly sampled 100 images from each category of the CIFAR10 validation set for this image set. We can look at raw % accuracy as well as confusion matrices to see how each metric performs for each layer."
   ],
   "metadata": {}
  },
  {
   "cell_type": "code",
   "execution_count": 2,
   "source": [
    "modelPath = '../outputs/masterOutput/models/w0s0.pb'\n",
    "print('Loading model')\n",
    "model = tf.keras.models.load_model(modelPath)\n",
    "model.summary()"
   ],
   "outputs": [
    {
     "output_type": "stream",
     "name": "stdout",
     "text": [
      "Loading model\n",
      "WARNING:tensorflow:SavedModel saved prior to TF 2.5 detected when loading Keras model. Please ensure that you are saving the model with model.save() or tf.keras.models.save_model(), *NOT* tf.saved_model.save(). To confirm, there should be a file named \"keras_metadata.pb\" in the SavedModel directory.\n",
      "Model: \"sequential\"\n",
      "_________________________________________________________________\n",
      "Layer (type)                 Output Shape              Param #   \n",
      "=================================================================\n",
      "conv2d (Conv2D)              (None, 32, 32, 96)        2688      \n",
      "_________________________________________________________________\n",
      "conv2d_1 (Conv2D)            (None, 32, 32, 96)        83040     \n",
      "_________________________________________________________________\n",
      "conv2d_2 (Conv2D)            (None, 16, 16, 96)        83040     \n",
      "_________________________________________________________________\n",
      "dropout (Dropout)            (None, 16, 16, 96)        0         \n",
      "_________________________________________________________________\n",
      "conv2d_3 (Conv2D)            (None, 16, 16, 192)       166080    \n",
      "_________________________________________________________________\n",
      "conv2d_4 (Conv2D)            (None, 16, 16, 192)       331968    \n",
      "_________________________________________________________________\n",
      "conv2d_5 (Conv2D)            (None, 8, 8, 192)         331968    \n",
      "_________________________________________________________________\n",
      "dropout_1 (Dropout)          (None, 8, 8, 192)         0         \n",
      "_________________________________________________________________\n",
      "conv2d_6 (Conv2D)            (None, 6, 6, 192)         331968    \n",
      "_________________________________________________________________\n",
      "conv2d_7 (Conv2D)            (None, 6, 6, 192)         37056     \n",
      "_________________________________________________________________\n",
      "conv2d_8 (Conv2D)            (None, 6, 6, 10)          1930      \n",
      "_________________________________________________________________\n",
      "global_average_pooling2d (Gl (None, 10)                0         \n",
      "_________________________________________________________________\n",
      "activation (Activation)      (None, 10)                0         \n",
      "=================================================================\n",
      "Total params: 1,369,738\n",
      "Trainable params: 1,369,738\n",
      "Non-trainable params: 0\n",
      "_________________________________________________________________\n"
     ]
    }
   ],
   "metadata": {}
  },
  {
   "cell_type": "code",
   "execution_count": 3,
   "source": [
    "corres = pd.read_csv('../outputs/masterOutput/correspondence.csv', index_col=0)\n",
    "corres['rsaCorr'] = corres['do_rsaNumba'] == corres['layer']\n",
    "\n",
    "# Need to calculate cca and cka accuracy carefully as layers 9 and 8 are equivalent\n",
    "corres['ccaCorr'] = corres['do_svcca'] == corres['layer']\n",
    "corres['ckaCorr'] = corres['do_linearCKANumba'] == corres['layer']\n",
    "corres.loc[corres['layer'] == 8, 'ccaCorr'] = np.isin(corres['do_svcca'].loc[corres['layer'] == 8], [8, 9])\n",
    "corres.loc[corres['layer'] == 8, 'ckaCorr'] = np.isin(corres['do_linearCKANumba'].loc[corres['layer'] == 8], [8, 9])\n",
    "\n",
    "rsaAcc = np.sum(corres['rsaCorr']) / len(corres['rsaCorr'])\n",
    "ccaAcc = np.sum(corres['ccaCorr'].loc[corres['layer'] != 9]) / len(corres['ccaCorr'].loc[corres['layer'] != 9])\n",
    "ckaAcc = np.sum(corres['ckaCorr'].loc[corres['layer'] != 9]) / len(corres['ckaCorr'].loc[corres['layer'] != 9])\n",
    "\n",
    "corres.head()"
   ],
   "outputs": [
    {
     "output_type": "execute_result",
     "data": {
      "text/html": [
       "<div>\n",
       "<style scoped>\n",
       "    .dataframe tbody tr th:only-of-type {\n",
       "        vertical-align: middle;\n",
       "    }\n",
       "\n",
       "    .dataframe tbody tr th {\n",
       "        vertical-align: top;\n",
       "    }\n",
       "\n",
       "    .dataframe thead th {\n",
       "        text-align: right;\n",
       "    }\n",
       "</style>\n",
       "<table border=\"1\" class=\"dataframe\">\n",
       "  <thead>\n",
       "    <tr style=\"text-align: right;\">\n",
       "      <th></th>\n",
       "      <th>model1</th>\n",
       "      <th>model2</th>\n",
       "      <th>do_rsaNumba</th>\n",
       "      <th>do_svcca</th>\n",
       "      <th>do_linearCKANumba</th>\n",
       "      <th>layer</th>\n",
       "      <th>rsaCorr</th>\n",
       "      <th>ccaCorr</th>\n",
       "      <th>ckaCorr</th>\n",
       "    </tr>\n",
       "  </thead>\n",
       "  <tbody>\n",
       "    <tr>\n",
       "      <th>0</th>\n",
       "      <td>w6s2</td>\n",
       "      <td>w0s3</td>\n",
       "      <td>0</td>\n",
       "      <td>0</td>\n",
       "      <td>0</td>\n",
       "      <td>0</td>\n",
       "      <td>True</td>\n",
       "      <td>True</td>\n",
       "      <td>True</td>\n",
       "    </tr>\n",
       "    <tr>\n",
       "      <th>1</th>\n",
       "      <td>w6s2</td>\n",
       "      <td>w0s3</td>\n",
       "      <td>1</td>\n",
       "      <td>3</td>\n",
       "      <td>1</td>\n",
       "      <td>1</td>\n",
       "      <td>True</td>\n",
       "      <td>False</td>\n",
       "      <td>True</td>\n",
       "    </tr>\n",
       "    <tr>\n",
       "      <th>2</th>\n",
       "      <td>w6s2</td>\n",
       "      <td>w0s3</td>\n",
       "      <td>2</td>\n",
       "      <td>3</td>\n",
       "      <td>2</td>\n",
       "      <td>2</td>\n",
       "      <td>True</td>\n",
       "      <td>False</td>\n",
       "      <td>True</td>\n",
       "    </tr>\n",
       "    <tr>\n",
       "      <th>3</th>\n",
       "      <td>w6s2</td>\n",
       "      <td>w0s3</td>\n",
       "      <td>3</td>\n",
       "      <td>9</td>\n",
       "      <td>3</td>\n",
       "      <td>3</td>\n",
       "      <td>True</td>\n",
       "      <td>False</td>\n",
       "      <td>True</td>\n",
       "    </tr>\n",
       "    <tr>\n",
       "      <th>4</th>\n",
       "      <td>w6s2</td>\n",
       "      <td>w0s3</td>\n",
       "      <td>4</td>\n",
       "      <td>9</td>\n",
       "      <td>4</td>\n",
       "      <td>4</td>\n",
       "      <td>True</td>\n",
       "      <td>False</td>\n",
       "      <td>True</td>\n",
       "    </tr>\n",
       "  </tbody>\n",
       "</table>\n",
       "</div>"
      ],
      "text/plain": [
       "  model1 model2  do_rsaNumba  do_svcca  do_linearCKANumba  layer  rsaCorr  \\\n",
       "0   w6s2   w0s3            0         0                  0      0     True   \n",
       "1   w6s2   w0s3            1         3                  1      1     True   \n",
       "2   w6s2   w0s3            2         3                  2      2     True   \n",
       "3   w6s2   w0s3            3         9                  3      3     True   \n",
       "4   w6s2   w0s3            4         9                  4      4     True   \n",
       "\n",
       "   ccaCorr  ckaCorr  \n",
       "0     True     True  \n",
       "1    False     True  \n",
       "2    False     True  \n",
       "3    False     True  \n",
       "4    False     True  "
      ]
     },
     "metadata": {},
     "execution_count": 3
    }
   ],
   "metadata": {}
  },
  {
   "cell_type": "code",
   "execution_count": 4,
   "source": [
    "print(f\"RSA Correspondence Test Accuracy: {rsaAcc}\")\n",
    "print(f\"CCA Correspondence Test Accuracy: {ccaAcc}\")\n",
    "print(f\"CKA Correspondence Test Accuracy: {ckaAcc}\")"
   ],
   "outputs": [
    {
     "output_type": "stream",
     "name": "stdout",
     "text": [
      "RSA Correspondence Test Accuracy: 0.9917355371900827\n",
      "CCA Correspondence Test Accuracy: 0.2\n",
      "CKA Correspondence Test Accuracy: 0.9927070707070708\n"
     ]
    }
   ],
   "metadata": {}
  },
  {
   "cell_type": "markdown",
   "source": [
    "RSA basically always succeeds, CCA is extremely inaccurate while CKA similarly almost always succeeds. We can look at the confusion matrices to see where the confusions lie."
   ],
   "metadata": {}
  },
  {
   "cell_type": "code",
   "execution_count": 5,
   "source": [
    "layers = np.unique(corres['layer'])\n",
    "rsaConfusion = np.zeros((len(layers), len(layers)))\n",
    "for i, layer in enumerate(layers):\n",
    "    tmp = corres['do_rsaNumba'].loc[corres['layer'] == layer].value_counts()\n",
    "    for index in tmp.index:\n",
    "        rsaConfusion[i, index] = tmp[index]\n",
    "\n",
    "plt.imshow(rsaConfusion)"
   ],
   "outputs": [
    {
     "output_type": "execute_result",
     "data": {
      "text/plain": [
       "<matplotlib.image.AxesImage at 0x7f2a503d2550>"
      ]
     },
     "metadata": {},
     "execution_count": 5
    },
    {
     "output_type": "display_data",
     "data": {
      "image/png": "[encoded data removed]",
      "text/plain": [
       "<Figure size 432x288 with 1 Axes>"
      ]
     },
     "metadata": {
      "needs_background": "light"
     }
    }
   ],
   "metadata": {}
  },
  {
   "cell_type": "markdown",
   "source": [
    "RSA essentially demonstrates the ideal case, the corresponding layer is found almost every time. What mistakes are made appear to be from layer 3 mistaking it to layer 2. Layer 2 is the first \"pooling\" layer in these networks so there are relatively few features to work with. These relatively close mistakes would not be as bad as mistaking outputs from layers farther apart. "
   ],
   "metadata": {}
  },
  {
   "cell_type": "code",
   "execution_count": 6,
   "source": [
    "layers = np.unique(corres['layer'])\n",
    "ccaConfusion = np.zeros((len(layers), len(layers)))\n",
    "for i, layer in enumerate(layers):\n",
    "    tmp = corres['do_svcca'].loc[corres['layer'] == layer].value_counts()\n",
    "    for index in tmp.index:\n",
    "        ccaConfusion[i, index] = tmp[index]\n",
    "\n",
    "plt.imshow(ccaConfusion)"
   ],
   "outputs": [
    {
     "output_type": "execute_result",
     "data": {
      "text/plain": [
       "<matplotlib.image.AxesImage at 0x7f29e406ea90>"
      ]
     },
     "metadata": {},
     "execution_count": 6
    },
    {
     "output_type": "display_data",
     "data": {
      "image/png": "[encoded data removed]",
      "text/plain": [
       "<Figure size 432x288 with 1 Axes>"
      ]
     },
     "metadata": {
      "needs_background": "light"
     }
    }
   ],
   "metadata": {}
  },
  {
   "cell_type": "markdown",
   "source": [
    "Note for CCA, the final two layers are exactly the same in terms of output, this is because whenever the output is 2D (ie: from a convolutional layer), we do global average pooling for each filter to produce a flat representation, the penultimate layer of these networks themselves are global average pooling and therefore is equivalent to the previous layer for CCA. The pooling layer is ommitted in calculating percent accuracy.\n",
    "\n",
    "As seen here, the CCA confusion matrices show fairly consistent patterns of confusions. The only time CCA suceeds is in the first and final layers. The errors are fairly consistent in the first block of the networks. In the first block, CCA consistently finds that the layers within a block is most simiarly to the first layer of the next block, right after pooling. It appears that the middle convolutional layers are all mismatched with the final layers of the network. This suggests that generally, CCA is biased with matching finding that representations are most similar to these later layers which have far fewer features (in this case, it is 10)."
   ],
   "metadata": {}
  },
  {
   "cell_type": "code",
   "execution_count": 7,
   "source": [
    "layers = np.unique(corres['layer'])\n",
    "ckaConfusion = np.zeros((len(layers), len(layers)))\n",
    "for i, layer in enumerate(layers):\n",
    "    tmp = corres['do_linearCKANumba'].loc[corres['layer'] == layer].value_counts()\n",
    "    for index in tmp.index:\n",
    "        ckaConfusion[i, index] = tmp[index]\n",
    "\n",
    "plt.imshow(ckaConfusion)"
   ],
   "outputs": [
    {
     "output_type": "execute_result",
     "data": {
      "text/plain": [
       "<matplotlib.image.AxesImage at 0x7f29ce7bdac0>"
      ]
     },
     "metadata": {},
     "execution_count": 7
    },
    {
     "output_type": "display_data",
     "data": {
      "image/png": "[encoded data removed]",
      "text/plain": [
       "<Figure size 432x288 with 1 Axes>"
      ]
     },
     "metadata": {
      "needs_background": "light"
     }
    }
   ],
   "metadata": {}
  },
  {
   "cell_type": "markdown",
   "source": [
    "CKA similarly uses global average pooling for the outputs of the convolutional layers and therefore layer 9 and 8 are equivalent. Basically perfect.\n",
    "### Permutation Tests\n",
    "Here, instead of directly using outputs from networks to test how well each metric performs, we simulate representations with specific properties which we want to test the effectiveness of each metric. To generate representations with similar distributions to real representations from CNNs, we take the outputs of a single network given an image set and then randomly sample from it to generate \"meaningless\" representations that we test with. For each test, we repeat the process 10000 times to produce confidence intervals around a mean value. We focus on tests with specific expected (or ideal) results to assess each metric.\n",
    "\n",
    "We do three permutation tests here:\n",
    "* Random: a pair of representations are generated by randomly permuting the original representations. This is essentially a pair of meaningless representations which should have no similarity, i.e., simliarity should be 0.\n",
    "* Noise: a meaningless representation is generated and compared to the same representation with noise added to each feature. The noise is sampled from a normal distribution centered at 0 with a standard deviation equal to the standard deviation of the original representations. While this noise is quite significant, the signal underneath the noise is not entirely gone and therefore the similarity should not be exactly 0 (though it should not be 1 either).\n",
    "* Ablate: a meaningless representation is generated and compared to the same representation with a randomly chosen column of features removed. Essentially, this is an ablation experiment, cutting out a single neuron. Given that there are 10 features for each images, removing a single neuron would be removing 10% of the information. We would expect a drop in similarity but as the rest of the representations are intact, it should not be far from 1."
   ],
   "metadata": {}
  },
  {
   "cell_type": "code",
   "execution_count": 8,
   "source": [
    "# load dataset\n",
    "imgset = np.load(\"../outputs/masterOutput/dataset.npy\")\n",
    "\n",
    "# Dataset information\n",
    "num_imgs = imgset.shape[0]\n",
    "dim = imgset.shape[1]\n",
    "correlations = []\n",
    "\n",
    "# Set model to output reps at layer\n",
    "inp = model.input\n",
    "layer = model.layers[12]\n",
    "out = layer.output\n",
    "\n",
    "tmpModel = tf.keras.Model(inputs=inp, outputs=out)\n",
    "\n",
    "# Get reps for originals and flatten\n",
    "rep_orig = tmpModel.predict(imgset)\n",
    "repShape = rep_orig.shape\n",
    "rep_flat = rep_orig.flatten()\n",
    "repMean = np.mean(rep_flat)\n",
    "repSD = np.std(rep_flat)\n",
    "\n",
    "print(imgset.shape)\n",
    "print(repMean)\n",
    "print(repSD)\n"
   ],
   "outputs": [
    {
     "output_type": "stream",
     "name": "stdout",
     "text": [
      "(1000, 32, 32, 3)\n",
      "0.1\n",
      "0.29175842\n"
     ]
    }
   ],
   "metadata": {}
  },
  {
   "cell_type": "code",
   "execution_count": 9,
   "source": [
    "permutePath = '../outputs/masterOutput/permuteSims.csv'\n",
    "permuteData = pd.read_csv(permutePath)\n",
    "print(\n",
    "    f\"Random Test\",\n",
    "    f\"RSA -- mean {np.mean(permuteData.loc[permuteData['analysis'] == 'random', 'do_rsaNumba'])}\",\n",
    "    f\"SD {np.std(permuteData.loc[permuteData['analysis'] == 'random', 'do_rsaNumba'])}\",\n",
    "    f\"CCA -- mean {np.mean(permuteData.loc[permuteData['analysis'] == 'random', 'do_svcca'])}\",\n",
    "    f\"SD {np.std(permuteData.loc[permuteData['analysis'] == 'random', 'do_svcca'])}\",\n",
    "    f\"CKA -- mean {np.mean(permuteData.loc[permuteData['analysis'] == 'random', 'do_linearCKANumba'])}\",\n",
    "    f\"SD {np.std(permuteData.loc[permuteData['analysis'] == 'random', 'do_linearCKANumba'])}\",\n",
    "    '',\n",
    "    f\"Noise Test\",\n",
    "    f\"RSA -- mean {np.mean(permuteData.loc[permuteData['analysis'] == 'noise', 'do_rsaNumba'])}\",\n",
    "    f\"SD {np.std(permuteData.loc[permuteData['analysis'] == 'noise', 'do_rsaNumba'])}\",\n",
    "    f\"CCA -- mean {np.mean(permuteData.loc[permuteData['analysis'] == 'noise', 'do_svcca'])}\",\n",
    "    f\"SD {np.std(permuteData.loc[permuteData['analysis'] == 'noise', 'do_svcca'])}\",\n",
    "    f\"CKA -- mean {np.mean(permuteData.loc[permuteData['analysis'] == 'noise', 'do_linearCKANumba'])}\",\n",
    "    f\"SD {np.std(permuteData.loc[permuteData['analysis'] == 'noise', 'do_linearCKANumba'])}\",\n",
    "    '',\n",
    "    f\"Ablation Test\",\n",
    "    f\"RSA -- mean {np.mean(permuteData.loc[permuteData['analysis'] == 'ablate', 'do_rsaNumba'])}\",\n",
    "    f\"SD {np.std(permuteData.loc[permuteData['analysis'] == 'ablate', 'do_rsaNumba'])}\",\n",
    "    f\"CCA -- mean {np.mean(permuteData.loc[permuteData['analysis'] == 'ablate', 'do_svcca'])}\",\n",
    "    f\"SD {np.std(permuteData.loc[permuteData['analysis'] == 'ablate', 'do_svcca'])}\",\n",
    "    f\"CKA -- mean {np.mean(permuteData.loc[permuteData['analysis'] == 'ablate', 'do_linearCKANumba'])}\",\n",
    "    f\"SD {np.std(permuteData.loc[permuteData['analysis'] == 'ablate', 'do_linearCKANumba'])}\",\n",
    "    sep = '\\n'\n",
    ")"
   ],
   "outputs": [
    {
     "output_type": "stream",
     "name": "stdout",
     "text": [
      "Random Test\n",
      "RSA -- mean 1.977609342017635e-06\n",
      "SD 2.9146738377307524e-06\n",
      "CCA -- mean 0.0838453493815464\n",
      "SD 0.006310950528370817\n",
      "CKA -- mean 0.00986457787710242\n",
      "SD 0.0014298527288473797\n",
      "\n",
      "Noise Test\n",
      "RSA -- mean 0.06901087487451732\n",
      "SD 0.0050961278468890665\n",
      "CCA -- mean 0.7071860470261188\n",
      "SD 0.004438898804331599\n",
      "CKA -- mean 0.5057070873892217\n",
      "SD 0.006286504203299497\n",
      "\n",
      "Ablation Test\n",
      "RSA -- mean 0.7721993929982185\n",
      "SD 0.02632698657119037\n",
      "CCA -- mean 0.9999999998778679\n",
      "SD 3.908091843029902e-12\n",
      "CKA -- mean 0.9492837751419997\n",
      "SD 0.008351504341354534\n"
     ]
    }
   ],
   "metadata": {}
  },
  {
   "cell_type": "markdown",
   "source": [
    "In the random test, we expect a similarity of 0. RSA and CKA do relatively well in the random test, essentially returning 0. RSA is much much closer 0 but the diference between RSA and CKA is essentially rounded off. Notably, CCA does not give us exactly 0 with a similarity score of .08 suggesting some spurious correlation being detected. CCA and CKA are notably depdendent on the ratio between the number of input images and the number of features in the outputs, more on this later. \n",
    "\n",
    "In the noise test, we expect moderate similarity. In the test with noise added to representations, we see the RSA is heavily affected by the addition of noise, almost falling to 0. CCA and CKA perform much better. CCA is relatively robust to noise with r = .71 and CKA doing worse but still quite reasonable at r = .51. Considering that the magnitude of noise is relatively large, being able to extract a high amount of similarity between the two is stil quite impriessive. The nearly complete failure of RSA in this case is concerning as there is still signal underlying the noise.\n",
    "\n",
    "In the ablation test, we expect relatively high similarity. Despite only losing 10% of the data, the similarity as indexed by RSA falls to .77. Conversely, CCA and CKA are relatively robust to the loss of a single neuron. CCA using singular vector decomposition on its inputs first and only uses the top n features that capture 99% of the variance in representations, this actually takes 9 features most of the time therefore the loss of a single neuron is not entirely concerning for this metric, which may explain the nearly perfect similarity. CKA only drops slightly and demonstrates itself to be relatively robust to this.\n",
    "\n",
    "In general, CCA usually returns the highest similarity score between representations regardless of their actual content. This is concerning for cases where no similarity should be found like in the random test. Conversely, RSA usually returns the lowest similarity scores and often estimates significantly lower similarity relative to the other metrics even if a high simliarity is expected as in the ablation test. CKA appears to strike a balance between the two, returning nearly 0 for the random test and nearly 1 for the ablation test. \n",
    "\n",
    "### Practical Considerations: Image:Feature Ratio\n",
    "Another consideration in using these metrics is entirely practical. As the intention is to use CNNs to model individual differences in biological object recognition, biological systems are usually only exposed to relatively few images (less than 100). However, CCA has been noted to be sensitive to the ratio between images and output features where the number of images should vastly outnumber the number of features. As the ratio of between images and features approaches one, the resulting correlations begin to rise even if the representations are completely unrelated, essentially detecting spurious correlations. If we are to use the same images exposed to biological systems in CNNs to generate and compare representations, then this is an important consideration. We will test how each metric performs as we parametrically manipulate the ratio between images and features. We will use the same permutation framework, sampling from a set of real representation to generate simulated representation.\n",
    "\n",
    "We hold the number of images at 1000 and range the number of features from 50 to 950 at steps of 50. This results in a ratios starting at 20:1 down to nearly 1:1. Note that this procedure is an extended version of the previous section's random test, in the previous section, it is the 100:1 case."
   ],
   "metadata": {}
  },
  {
   "cell_type": "code",
   "execution_count": 10,
   "source": [
    "ratioPath = '../outputs/masterOutput/ratioSims.csv'\n",
    "ratioSims = pd.read_csv(ratioPath)\n",
    "ratioSims['ratio'] = ratioSims['sample'] / ratioSims['features']\n",
    "\n",
    "ratios = ratioSims['ratio'].unique()\n",
    "ratioData = pd.DataFrame(columns=list(ratioSims.columns[0:3]) + ['ratio'], index=range(len(ratios)))\n",
    "for i, ratio in enumerate(ratios):\n",
    "    ratioData.loc[i] = list(ratioSims.loc[ratioSims['ratio'] == ratio, ratioSims.columns[0:3]].mean('index')) + [ratio]"
   ],
   "outputs": [],
   "metadata": {}
  },
  {
   "cell_type": "code",
   "execution_count": 11,
   "source": [
    "fig = plt.figure()\n",
    "ax = fig.add_axes([0,0,1,1])\n",
    "ax.plot(ratioData['ratio'], ratioData['do_rsaNumba'], label='rsa')\n",
    "ax.plot(ratioData['ratio'], ratioData['do_svcca'], label='cca')\n",
    "ax.plot(ratioData['ratio'], ratioData['do_linearCKANumba'], label='cka')\n",
    "ax.set_xlabel('Image:Feature Ratio')\n",
    "ax.set_ylabel('Similarity Score')\n",
    "ax.legend()"
   ],
   "outputs": [
    {
     "output_type": "execute_result",
     "data": {
      "text/plain": [
       "<matplotlib.legend.Legend at 0x7f29cde606d0>"
      ]
     },
     "metadata": {},
     "execution_count": 11
    },
    {
     "output_type": "display_data",
     "data": {
      "image/png": "[encoded data removed]",
      "text/plain": [
       "<Figure size 432x288 with 1 Axes>"
      ]
     },
     "metadata": {
      "needs_background": "light"
     }
    }
   ],
   "metadata": {}
  },
  {
   "cell_type": "markdown",
   "source": [
    "Here we see that RSA is essentially not dependent on the ratio between images and features. However, CCA and RSA are much more dependent on the image:feature ratio. At the nearly 1:1, CKA has a similarity score of 0.5 and CCA has a similarity score of .9. This does quickly drops but even at the 10:1 ratio, it isn't 0. This does not bode well for the use of CCA and CKA for cognitive neuroscience as the size of the representations in modern CNNs dwarfs the amount of images we present to biological systems. \n",
    "\n",
    "Note that this analysis might not be correct, this simulation is just an extended version of the random permutation test in the last section where the case there is the 100:1 case. If the data from that point is added on the plot, it'll have a notable discontinuity. This might be caused by the fact that to generate more features relative to the original real representations, we sampled with replacement (as opposed to be without replacement in the 100:1 case) causing many repeats even in the 20:1 case. A possible solution is to manipualte the ratio by reducing the number of images (instead of increasing the number of features) alternatively, we could simply just generate new representations with the same distribution as the originals but the representations is not a simple distribution, it is some bimodal distribution. Need to think on this more.\n",
    "\n",
    "### Recommendation on Metric\n",
    "It seems that the ideal metric to use to measure similarity between outputs from CNNs is CKA. It pefrorms well in the cases where there should be no similarity (random test) and while still being able to extract signal from noisy representations. However, there is a major caveat where CKA is still sensitive to the ratio between image count and feature count. Effectively, the number of images used to generate representations must be at least 10x (if not more) than the number of features in those representations. Otherwise, the similarity scores will be significantly inflated. There may be a way to rescale CKA outputs based on the curve above to account for the ratio and be effectively not dependent on that ratio. But more development in the statistics is necessary here.\n",
    "\n",
    "The final recommendation is as follows: if the number of images used to generate representations is at least 10x more than the number of features in representations, use CKA. Otherwise, use RSA. If using RSA, be aware that it is highly sensitive to noise. \n",
    "\n",
    "## Significant variability relative to baseline\n",
    "\n",
    "Now that RSA and CKA appear to be viable metrics to measure variability, we want to measure how much variability we would get from the smallest possible change in networks by manipulating the randomization seeds. These randomization seeds would dictate the randomized weight initialization and the ordering of the dataset during training. Often, these seeds are not closely controlled and is determined by the system, therefore two runs of a network may not exactly the same. We closely control these seeds to deterministically train networks to determine the variability in representations due to randomization seeds.\n",
    "\n",
    "However, we would want to know if the variability caused by randomization seed is significant. There is variability in representations that is a function of the normal function of CNNs. Such variability could be from small perturbation akin to image augmentation techniques which do not largely modify the contents of the image. Indeed, CNNs are trained to essentially be invariant to these types of perturbation and therefore we would expect changes in the representations due to these changes would be quite small, essentially non-significant. We use this to determine a baseline for variability. Significant variability in representations due to any change to a network should be larger than this baseline to be significant, otherwise, the change would run the risk to be masked by the variability due to the normal functioning of the network. \n",
    "\n",
    "### Training the networks\n",
    "\n",
    "We trained 100 All-CNN-C on CIFAR 10, they are all identical except for two random seeds. We have 10 weight initialization seeds and 10 shuffle initialization seeds. They are fully crossed to create the dataset of 100 networks. All else is closely controlled to be the same. Application of augmentation transformation is based on the item index (IE the first image presented to a network is always augmented the same way). Dropout removes the same exact feature based on index across all networks. We preprocess the images the same way that the original authors (All-CNN-C authors), global contrast normalization and whitened with ZCA. During training, we augment the data the same way: horizontal flipping and random translation (5 pixels in any direction). "
   ],
   "metadata": {}
  },
  {
   "cell_type": "markdown",
   "source": [
    "![Training Trajectory](trainingTraj.png)"
   ],
   "metadata": {}
  },
  {
   "cell_type": "code",
   "execution_count": 12,
   "source": [
    "trainingTraj = pd.read_csv('../outputs/masterOutput/trainingTraj.csv')\n",
    "finalAcc = trainingTraj['valAcc'].loc[trainingTraj['epoch'] == 349]\n",
    "print('Accuracy Mean: '+str(np.mean(finalAcc)))\n",
    "print('Accuracy SD: '+str(np.std(finalAcc)))\n",
    "print(f'Accuracy Range: {np.min(finalAcc)} - {np.max(finalAcc)}')"
   ],
   "outputs": [
    {
     "output_type": "stream",
     "name": "stdout",
     "text": [
      "Accuracy Mean: 0.908897\n",
      "Accuracy SD: 0.002332614627408484\n",
      "Accuracy Range: 0.9011 - 0.9143\n"
     ]
    }
   ],
   "metadata": {}
  },
  {
   "cell_type": "markdown",
   "source": [
    "As seen above, the final accuracy of all 100 networks is fairly consistent. However, as seen earlier in training, there are notable differences in their validation accuracy in the earlier epochs but everything converges by the end of training. Do the representations by the end of training still posses significant variability or do they all exactly end in the same place? To test the significant of the variability, we would need to determine a baseline to compare against. A baseline of 0 is inaccurate as we expect variability in each network's typical functioning.\n",
    "\n",
    "To determine baseline variability we test changes to images using techniques typically used in training CNNs. The logic is that the normal function of CNNs is to be invariant to these types of changes and their representations, especially at the high level, should be relatively resistant to it. In effect, the networks should squash what variability does occur due to these image-level changes. We chose augmentation techniques and dropout as image-level perturbations to create a baseline levels of variability. We use reflect and different levels translation for augmentation techniques and different levels of dropout and measure the changes in representations caused by them relative to images not modified by these techniques. By testing different intensities of the image-level changes, we can capture the range of possible differences as caused by these image-level differences.\n",
    "\n",
    "As we may not always be using the representations from the final or penultimate layers of CNNs, I tested the effects of image-level manipulations on representations at early, middle, and late parts of the network. The network is roughly divided into these parts based on the \"pooling\" layers where the representations are the output at each pooling layer which there are three. To index possible variability due to the underlying model itself, we repeat this analysis on the entire set of 100 models.\n",
    "\n",
    "Image reflection does not have a magnitude and therefore only produces a single similarity score per model depth per network."
   ],
   "metadata": {}
  },
  {
   "cell_type": "code",
   "execution_count": 28,
   "source": [
    "reflectData = pd.read_csv('../outputs/masterOutput/baseline/compiled/reflect.csv', index_col=0)\n",
    "print('Early')\n",
    "print(reflectData.iloc[:,1:4].loc[reflectData['layer'] == 3].mean())\n",
    "print(reflectData.iloc[:,1:4].loc[reflectData['layer'] == 3].std())\n",
    "print('\\nMiddle')\n",
    "print(reflectData.iloc[:,1:4].loc[reflectData['layer'] == 7].mean())\n",
    "print(reflectData.iloc[:,1:4].loc[reflectData['layer'] == 3].std())\n",
    "print('\\nLate')\n",
    "print(reflectData.iloc[:,1:4].loc[reflectData['layer'] == 11].mean())\n",
    "print(reflectData.iloc[:,1:4].loc[reflectData['layer'] == 3].std())"
   ],
   "outputs": [
    {
     "output_type": "stream",
     "name": "stdout",
     "text": [
      "Early\n",
      "do_rsaNumba          0.939130\n",
      "do_svcca             0.758869\n",
      "do_linearCKANumba    0.991144\n",
      "dtype: float64\n",
      "do_rsaNumba          0.005570\n",
      "do_svcca             0.008461\n",
      "do_linearCKANumba    0.001535\n",
      "dtype: float64\n",
      "\n",
      "Middle\n",
      "do_rsaNumba          0.902787\n",
      "do_svcca             0.685102\n",
      "do_linearCKANumba    0.966902\n",
      "dtype: float64\n",
      "do_rsaNumba          0.005570\n",
      "do_svcca             0.008461\n",
      "do_linearCKANumba    0.001535\n",
      "dtype: float64\n",
      "\n",
      "Late\n",
      "do_rsaNumba          0.874159\n",
      "do_svcca             0.950767\n",
      "do_linearCKANumba    0.968740\n",
      "dtype: float64\n",
      "do_rsaNumba          0.005570\n",
      "do_svcca             0.008461\n",
      "do_linearCKANumba    0.001535\n",
      "dtype: float64\n"
     ]
    }
   ],
   "metadata": {}
  },
  {
   "cell_type": "markdown",
   "source": [
    "At this point, I'm willing to just write off CCA as being bad and just continue the rest of the analysis with RSA and CKA. I left it in for this as all the analysis is done but it is rather odd. \n",
    "\n",
    "In any case, we can see that reflection generally cuases more and more effect down stream which seems a bit odd considering that you would expect that these image-level effects would affect the representations more at the low level. Nonetheless, we see that reflection causes relatively modest effects even at the highest level with rsa return a score of .87 and cka returning a score of .97 with little variability. This is one baseline we can set, essentially, any changes that result in a similarity score below these values would be significant.\n",
    "\n",
    "Now we turn to the other augmentation techniques which have magnitude differences to look at how variability may change over different levels of augmentation.\n",
    "\n",
    "![Training Trajectory](baselineAugment.png)"
   ],
   "metadata": {}
  },
  {
   "cell_type": "code",
   "execution_count": 49,
   "source": [
    "funNames = ['do_rsaNumba', 'do_svcca', 'do_linearCKANumba']\n",
    "directions = ['right', 'left', 'down', 'up']\n",
    "transData = pd.read_csv('../outputs/masterOutput/baseline/compiled/translate.csv', index_col=0)\n",
    "for fun in funNames:\n",
    "    funDirs = [fun+'-'+direct for direct in directions]\n",
    "    transData[fun] = transData[funDirs].mean(1)\n",
    "\n",
    "print('Translation at 5 pixels')\n",
    "print('-- Early')\n",
    "print(transData[funNames].loc[(transData['layer'] == 3) & (transData['version'] == 5)].mean())\n",
    "print(transData[funNames].loc[(transData['layer'] == 3) & (transData['version'] == 5)].std())\n",
    "print('\\n-- Middle')\n",
    "print(transData[funNames].loc[(transData['layer'] == 7) & (transData['version'] == 5)].mean())\n",
    "print(transData[funNames].loc[(transData['layer'] == 7) & (transData['version'] == 5)].std())\n",
    "print('\\n-- Late')\n",
    "print(transData[funNames].loc[(transData['layer'] == 11) & (transData['version'] == 5)].mean())\n",
    "print(transData[funNames].loc[(transData['layer'] == 11) & (transData['version'] == 5)].std())\n"
   ],
   "outputs": [
    {
     "output_type": "stream",
     "name": "stdout",
     "text": [
      "Translation at 5 pixels\n",
      "-- Early\n",
      "do_rsaNumba          0.629864\n",
      "do_svcca             0.877109\n",
      "do_linearCKANumba    0.956701\n",
      "dtype: float64\n",
      "do_rsaNumba          0.048929\n",
      "do_svcca             0.004916\n",
      "do_linearCKANumba    0.001340\n",
      "dtype: float64\n",
      "\n",
      "-- Middle\n",
      "do_rsaNumba          0.314262\n",
      "do_svcca             0.846803\n",
      "do_linearCKANumba    0.922341\n",
      "dtype: float64\n",
      "do_rsaNumba          0.077469\n",
      "do_svcca             0.004334\n",
      "do_linearCKANumba    0.009201\n",
      "dtype: float64\n",
      "\n",
      "-- Late\n",
      "do_rsaNumba          0.899025\n",
      "do_svcca             0.963070\n",
      "do_linearCKANumba    0.964048\n",
      "dtype: float64\n",
      "do_rsaNumba          0.006632\n",
      "do_svcca             0.001013\n",
      "do_linearCKANumba    0.001322\n",
      "dtype: float64\n"
     ]
    }
   ],
   "metadata": {}
  },
  {
   "cell_type": "markdown",
   "source": [
    "We still have a somewhat odd non-monotonic relationship between layer depth and similarity where the middle layer varies the most due to this translating the images. Nonetheless, by the final layers, we have variability just under 1 for both metrics. \n",
    "\n",
    "Now we take a look at variability due to dropout."
   ],
   "metadata": {}
  },
  {
   "cell_type": "code",
   "execution_count": 70,
   "source": [
    "dropData = pd.read_csv('../outputs/masterOutput/baseline/compiled/dropout.csv', index_col=0)\n",
    "dropData\n",
    "print('Dropout at 0.5')\n",
    "print('-- Early')\n",
    "print(dropData.loc[(dropData['dropRate'] == .5) & (dropData['layer'] == 3)].iloc[:, 0:3].mean())\n",
    "print(dropData.loc[(dropData['dropRate'] == .5) & (dropData['layer'] == 3)].iloc[:, 0:3].std())\n",
    "print('\\n-- Middle')\n",
    "print(dropData.loc[(dropData['dropRate'] == .5) & (dropData['layer'] == 7)].iloc[:, 0:3].mean())\n",
    "print(dropData.loc[(dropData['dropRate'] == .5) & (dropData['layer'] == 7)].iloc[:, 0:3].std())\n",
    "print('\\n-- Late')\n",
    "print(dropData.loc[(dropData['dropRate'] == .5) & (dropData['layer'] == 11)].iloc[:, 0:3].mean())\n",
    "print(dropData.loc[(dropData['dropRate'] == .5) & (dropData['layer'] == 11)].iloc[:, 0:3].std())"
   ],
   "outputs": [
    {
     "output_type": "stream",
     "name": "stdout",
     "text": [
      "Dropout at 0.5\n",
      "-- Early\n",
      "do_rsaNumba          0.795600\n",
      "do_svcca             0.641009\n",
      "do_linearCKANumba    0.989110\n",
      "dtype: float64\n",
      "do_rsaNumba          0.007096\n",
      "do_svcca             0.009036\n",
      "do_linearCKANumba    0.000964\n",
      "dtype: float64\n",
      "\n",
      "-- Middle\n",
      "do_rsaNumba          0.697547\n",
      "do_svcca             0.582457\n",
      "do_linearCKANumba    0.943620\n",
      "dtype: float64\n",
      "do_rsaNumba          0.016313\n",
      "do_svcca             0.004169\n",
      "do_linearCKANumba    0.004174\n",
      "dtype: float64\n",
      "\n",
      "-- Late\n",
      "do_rsaNumba          0.924255\n",
      "do_svcca             0.924350\n",
      "do_linearCKANumba    0.945975\n",
      "dtype: float64\n",
      "do_rsaNumba          0.004241\n",
      "do_svcca             0.001852\n",
      "do_linearCKANumba    0.002523\n",
      "dtype: float64\n"
     ]
    }
   ],
   "metadata": {}
  },
  {
   "cell_type": "markdown",
   "source": [
    "It seems that these models are surprispingly resilient to dropout in their representations. Note that the there are only 2 dropout layers in these networks that are turned on for this test where the output of the early layer is right after the first dropout, the output of the middle layer is right after the second dropout, and the late layer is the penultimate layer after those. It is therefore compounding in how much dropout these representations are subject to as you move later into the network. Note: this might be better off if the output is right before dropout, the story is clearer there where the early layers is essentially just going to be 1, middle has 1 dropped, and late has 2 dropped.\n",
    "\n",
    "We can take the results of the three baseline techniques and use the lowest value of each of the tests for each metric for the late representations, as that appears to be the most consistent. Also, we expect the most variability due to any change to the architecture to be most apparent in the later layers (ie, it is unlikely the earlier layers in our case would be significantly below baseline in terms of similarity). For RSA, that is from reflection at .87 and for CKA, that is .95 from dropout."
   ],
   "metadata": {}
  },
  {
   "cell_type": "code",
   "execution_count": 72,
   "source": [
    "# Load model seeds\n",
    "modelSeeds = pd.read_csv(\"../outputs/masterOutput/modelSeeds.csv\")\n",
    "layers = [0, 1, 2, 3, 4, 5, 6, 7, 8]\n",
    "\n",
    "simByLayers = np.zeros((len(layers), 3, 2))\n",
    "for layerI, layer in enumerate(layers):\n",
    "    # Load model sims\n",
    "    ckaSims = np.load(\n",
    "        f\"../outputs/masterOutput/similarities/simMat_l{layer}_do_linearCKANumba.npy\"\n",
    "    )\n",
    "    ccaSims = np.load(\n",
    "        f\"../outputs/masterOutput/similarities/simMat_l{layer}_do_svcca.npy\"\n",
    "    )\n",
    "    rsaSims = np.load(\n",
    "        f\"../outputs/masterOutput/similarities/simMat_l{layer}_do_rsaNumba.npy\"\n",
    "    )\n",
    "\n",
    "    # Loop through each shuffle seed and look for mean and sd of the weight variability\n",
    "    shuffleSeeds = pd.unique(modelSeeds[\"shuffle\"])\n",
    "    weightCKAMeans = np.empty(shape=(len(shuffleSeeds)))\n",
    "    weightCCAMeans = np.empty(shape=(len(shuffleSeeds)))\n",
    "    weightRSAMeans = np.empty(shape=(len(shuffleSeeds)))\n",
    "    for i, s in enumerate(shuffleSeeds):\n",
    "        modelIdx = modelSeeds[\"index\"].loc[s == modelSeeds.shuffle]\n",
    "\n",
    "        # Combos\n",
    "        coords = list(itertools.product(modelIdx.values, modelIdx.values))\n",
    "        coords = [(x, y) for x, y in coords if x > y]\n",
    "\n",
    "        # Loop through\n",
    "        weightCKAMeans[i] = np.array([ckaSims[x, y] for x, y in coords]).mean()\n",
    "        weightCCAMeans[i] = np.array([ccaSims[x, y] for x, y in coords]).mean()\n",
    "        weightRSAMeans[i] = np.array([rsaSims[x, y] for x, y in coords]).mean()\n",
    "        \n",
    "    simByLayers[layerI, 0, 0] = weightRSAMeans.mean()\n",
    "    simByLayers[layerI, 1, 0] = weightCCAMeans.mean()\n",
    "    simByLayers[layerI, 2, 0] = weightCKAMeans.mean()\n",
    "\n",
    "    weightSeeds = pd.unique(modelSeeds[\"weight\"])\n",
    "    shuffleCKAMeans = np.empty(shape=(len(weightSeeds)))\n",
    "    shuffleCCAMeans = np.empty(shape=(len(weightSeeds)))\n",
    "    shuffleRSAMeans = np.empty(shape=(len(weightSeeds)))\n",
    "    for i, s in enumerate(weightSeeds):\n",
    "        modelIdx = modelSeeds[\"index\"].loc[s == modelSeeds.weight]\n",
    "\n",
    "        # Combos\n",
    "        coords = list(itertools.product(modelIdx.values, modelIdx.values))\n",
    "        coords = [(x, y) for x, y in coords if x > y]\n",
    "\n",
    "        # Loop through\n",
    "        shuffleCKAMeans[i] = np.array(\n",
    "            [ckaSims[x, y] for x, y in coords]\n",
    "        ).mean()\n",
    "        shuffleCCAMeans[i] = np.array(\n",
    "            [ccaSims[x, y] for x, y in coords]\n",
    "        ).mean()\n",
    "        shuffleRSAMeans[i] = np.array(\n",
    "            [rsaSims[x, y] for x, y in coords]\n",
    "        ).mean()\n",
    "\n",
    "    simByLayers[layerI, 0, 1] = shuffleRSAMeans.mean()\n",
    "    simByLayers[layerI, 1, 1] = shuffleCCAMeans.mean()\n",
    "    \n",
    "    simByLayers[layerI, 2, 1] = shuffleCKAMeans.mean()"
   ],
   "outputs": [],
   "metadata": {}
  },
  {
   "cell_type": "code",
   "execution_count": 71,
   "source": [
    "colors = ['blue', 'orange', 'green']\n",
    "labels = ['RSA', 'CCA', 'CKA']\n",
    "style = ['-', '--']\n",
    "\n",
    "legendAx = []\n",
    "plt.plot()\n",
    "# Plot weight stuff\n",
    "for i in range(3):\n",
    "    weightLine, = plt.plot(layers, simByLayers[:, i, 0], label=labels[i], color=colors[i], linestyle=style[0])\n",
    "    shuffleLine, = plt.plot(layers, simByLayers[:, i, 1], label=labels[i], color=colors[i], linestyle=style[1])\n",
    "    legendAx += [weightLine]\n",
    "\n",
    "plt.legend(handles=legendAx, loc='lower left')\n",
    "plt.xlabel('Layer')\n",
    "plt.ylabel('Similarity Metric')\n",
    "plt.ylim(.5, 1)\n",
    "plt.axhline(y=.87, color='blue', linestyle='-')\n",
    "plt.axhline(y=.95, color='green', linestyle='-')\n",
    "plt.show()"
   ],
   "outputs": [
    {
     "output_type": "display_data",
     "data": {
      "image/png": "[encoded data removed]",
      "text/plain": [
       "<Figure size 432x288 with 1 Axes>"
      ]
     },
     "metadata": {
      "needs_background": "light"
     }
    }
   ],
   "metadata": {}
  },
  {
   "cell_type": "markdown",
   "source": [
    "Above we can see the representational similarity across instances of a network at each layer depending if the shuffle seed (dotted line) or the weight seed (solid line) is manipulated. Generally, it appears that shuffle seeds cause more variability in the representations than weight seeds but only just. Another general pattern is that the randomization seeds cause more variability as you go deeper into the network. Against baseline, both CKA and RSA show that there is significant variability starting somewhere in the middle of the networks."
   ],
   "metadata": {}
  },
  {
   "cell_type": "markdown",
   "source": [
    "#### WORKSHOP // APPENDIX"
   ],
   "metadata": {}
  },
  {
   "cell_type": "code",
   "execution_count": 54,
   "source": [
    "colorData = pd.read_csv('../outputs/masterOutput/baseline/compiled/color.csv', index_col=0)\n",
    "colorData.head()\n",
    "print('color at alpha .24')\n",
    "print('-- Early')\n",
    "print(colorData.loc[((colorData['version'] == 0.24) | (colorData['version'] == -0.24)) & (colorData['layer'] == 3)].iloc[:, 1:4].mean())\n",
    "print(colorData.loc[((colorData['version'] == 0.24) | (colorData['version'] == -0.24)) & (colorData['layer'] == 3)].iloc[:, 1:4].std())\n",
    "print('\\n-- Middle')\n",
    "print(colorData.loc[((colorData['version'] == 0.24) | (colorData['version'] == -0.24)) & (colorData['layer'] == 7)].iloc[:, 1:4].mean())\n",
    "print(colorData.loc[((colorData['version'] == 0.24) | (colorData['version'] == -0.24)) & (colorData['layer'] == 7)].iloc[:, 1:4].std())\n",
    "print('\\n-- Late')\n",
    "print(colorData.loc[((colorData['version'] == 0.24) | (colorData['version'] == -0.24)) & (colorData['layer'] == 11)].iloc[:, 1:4].mean())\n",
    "print(colorData.loc[((colorData['version'] == 0.24) | (colorData['version'] == -0.24)) & (colorData['layer'] == 11)].iloc[:, 1:4].std())\n"
   ],
   "outputs": [
    {
     "output_type": "stream",
     "name": "stdout",
     "text": [
      "color at alpha .24\n",
      "-- Early\n",
      "do_rsaNumba          0.373696\n",
      "do_svcca             0.834921\n",
      "do_linearCKANumba    0.908504\n",
      "dtype: float64\n",
      "do_rsaNumba          0.057565\n",
      "do_svcca             0.008389\n",
      "do_linearCKANumba    0.020220\n",
      "dtype: float64\n",
      "\n",
      "-- Middle\n",
      "do_rsaNumba          0.439901\n",
      "do_svcca             0.674229\n",
      "do_linearCKANumba    0.701348\n",
      "dtype: float64\n",
      "do_rsaNumba          0.044197\n",
      "do_svcca             0.021259\n",
      "do_linearCKANumba    0.035967\n",
      "dtype: float64\n",
      "\n",
      "-- Late\n",
      "do_rsaNumba          0.318385\n",
      "do_svcca             0.746749\n",
      "do_linearCKANumba    0.687158\n",
      "dtype: float64\n",
      "do_rsaNumba          0.127124\n",
      "do_svcca             0.047765\n",
      "do_linearCKANumba    0.113658\n",
      "dtype: float64\n"
     ]
    }
   ],
   "metadata": {}
  },
  {
   "cell_type": "code",
   "execution_count": 58,
   "source": [
    "zoomData = pd.read_csv('../outputs/masterOutput/baseline/compiled/zoom.csv', index_col=0)\n",
    "zoomData.head()\n",
    "print('Zooming in 2 pixels')\n",
    "print('-- Early')\n",
    "print(zoomData.loc[(zoomData['layer'] == 3) & (zoomData['version'] == 2.0)].iloc[:, 1:4].mean())\n",
    "print(zoomData.loc[(zoomData['layer'] == 3) & (zoomData['version'] == 2.0)].iloc[:, 1:4].std())\n",
    "print('\\n-- Middle')\n",
    "print(zoomData.loc[(zoomData['layer'] == 7) & (zoomData['version'] == 2.0)].iloc[:, 1:4].mean())\n",
    "print(zoomData.loc[(zoomData['layer'] == 7) & (zoomData['version'] == 2.0)].iloc[:, 1:4].std())\n",
    "print('\\n-- Late')\n",
    "print(zoomData.loc[(zoomData['layer'] == 11) & (zoomData['version'] == 2.0)].iloc[:, 1:4].mean())\n",
    "print(zoomData.loc[(zoomData['layer'] == 11) & (zoomData['version'] == 2.0)].iloc[:, 1:4].std())"
   ],
   "outputs": [
    {
     "output_type": "stream",
     "name": "stdout",
     "text": [
      "Zooming in 2 pixels\n",
      "-- Early\n",
      "do_rsaNumba          0.674163\n",
      "do_svcca             0.801440\n",
      "do_linearCKANumba    0.904434\n",
      "dtype: float64\n",
      "do_rsaNumba          0.020705\n",
      "do_svcca             0.005545\n",
      "do_linearCKANumba    0.005580\n",
      "dtype: float64\n",
      "\n",
      "-- Middle\n",
      "do_rsaNumba          0.675834\n",
      "do_svcca             0.751486\n",
      "do_linearCKANumba    0.875394\n",
      "dtype: float64\n",
      "do_rsaNumba          0.020069\n",
      "do_svcca             0.005881\n",
      "do_linearCKANumba    0.008484\n",
      "dtype: float64\n",
      "\n",
      "-- Late\n",
      "do_rsaNumba          0.771528\n",
      "do_svcca             0.906727\n",
      "do_linearCKANumba    0.902801\n",
      "dtype: float64\n",
      "do_rsaNumba          0.014034\n",
      "do_svcca             0.004082\n",
      "do_linearCKANumba    0.006285\n",
      "dtype: float64\n"
     ]
    }
   ],
   "metadata": {}
  },
  {
   "cell_type": "markdown",
   "source": [
    "## Augmentation magnitude x Accuracy tests\n",
    "## DO SOME ANALYSIS WITH RESNET"
   ],
   "metadata": {}
  }
 ],
 "metadata": {
  "kernelspec": {
   "name": "python3",
   "display_name": "Python 3.8.10 64-bit ('research': venv)"
  },
  "language_info": {
   "name": "python",
   "version": "3.8.10",
   "mimetype": "text/x-python",
   "codemirror_mode": {
    "name": "ipython",
    "version": 3
   },
   "pygments_lexer": "ipython3",
   "nbconvert_exporter": "python",
   "file_extension": ".py"
  },
  "interpreter": {
   "hash": "6ac3eb29cc07e29e0de0cb40085283f8b3b090e05be384e53cdfe204b1dc7464"
  }
 },
 "nbformat": 4,
 "nbformat_minor": 4
}